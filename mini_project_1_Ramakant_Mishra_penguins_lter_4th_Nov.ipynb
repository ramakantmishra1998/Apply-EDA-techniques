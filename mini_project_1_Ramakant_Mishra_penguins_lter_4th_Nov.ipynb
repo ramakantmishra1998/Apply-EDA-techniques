{
 "cells": [
  {
   "cell_type": "markdown",
   "id": "b16c3709",
   "metadata": {},
   "source": [
    "### Exploratory data analysis of penguims lter data "
   ]
  },
  {
   "cell_type": "markdown",
   "id": "85270e2f",
   "metadata": {},
   "source": [
    "#### Import necessary libraries"
   ]
  },
  {
   "cell_type": "code",
   "execution_count": 1,
   "id": "34014d96",
   "metadata": {},
   "outputs": [],
   "source": [
    "import pandas as pd\n",
    "import numpy as np \n",
    "import seaborn as sns\n",
    "import matplotlib.pyplot as plt\n",
    "import missingno as msg"
   ]
  },
  {
   "cell_type": "markdown",
   "id": "f4cefc17",
   "metadata": {},
   "source": [
    "#### Read the penguins lter "
   ]
  },
  {
   "cell_type": "code",
   "execution_count": 4,
   "id": "1d5c4d18",
   "metadata": {},
   "outputs": [],
   "source": [
    "data = pd.read_csv(\"./penguins_lter.csv\")"
   ]
  },
  {
   "cell_type": "code",
   "execution_count": 5,
   "id": "0a7f8db9",
   "metadata": {},
   "outputs": [
    {
     "data": {
      "text/html": [
       "<div>\n",
       "<style scoped>\n",
       "    .dataframe tbody tr th:only-of-type {\n",
       "        vertical-align: middle;\n",
       "    }\n",
       "\n",
       "    .dataframe tbody tr th {\n",
       "        vertical-align: top;\n",
       "    }\n",
       "\n",
       "    .dataframe thead th {\n",
       "        text-align: right;\n",
       "    }\n",
       "</style>\n",
       "<table border=\"1\" class=\"dataframe\">\n",
       "  <thead>\n",
       "    <tr style=\"text-align: right;\">\n",
       "      <th></th>\n",
       "      <th>studyName</th>\n",
       "      <th>Sample Number</th>\n",
       "      <th>Species</th>\n",
       "      <th>Region</th>\n",
       "      <th>Island</th>\n",
       "      <th>Stage</th>\n",
       "      <th>Individual ID</th>\n",
       "      <th>Clutch Completion</th>\n",
       "      <th>Date Egg</th>\n",
       "      <th>Culmen Length (mm)</th>\n",
       "      <th>Culmen Depth (mm)</th>\n",
       "      <th>Flipper Length (mm)</th>\n",
       "      <th>Body Mass (g)</th>\n",
       "      <th>Sex</th>\n",
       "      <th>Delta 15 N (o/oo)</th>\n",
       "      <th>Delta 13 C (o/oo)</th>\n",
       "      <th>Comments</th>\n",
       "    </tr>\n",
       "  </thead>\n",
       "  <tbody>\n",
       "    <tr>\n",
       "      <th>0</th>\n",
       "      <td>PAL0708</td>\n",
       "      <td>1</td>\n",
       "      <td>Adelie Penguin (Pygoscelis adeliae)</td>\n",
       "      <td>Anvers</td>\n",
       "      <td>Torgersen</td>\n",
       "      <td>Adult, 1 Egg Stage</td>\n",
       "      <td>N1A1</td>\n",
       "      <td>Yes</td>\n",
       "      <td>11-11-2007</td>\n",
       "      <td>39.1</td>\n",
       "      <td>18.7</td>\n",
       "      <td>181.0</td>\n",
       "      <td>3750.0</td>\n",
       "      <td>MALE</td>\n",
       "      <td>NaN</td>\n",
       "      <td>NaN</td>\n",
       "      <td>Not enough blood for isotopes.</td>\n",
       "    </tr>\n",
       "    <tr>\n",
       "      <th>1</th>\n",
       "      <td>PAL0708</td>\n",
       "      <td>2</td>\n",
       "      <td>Adelie Penguin (Pygoscelis adeliae)</td>\n",
       "      <td>Anvers</td>\n",
       "      <td>Torgersen</td>\n",
       "      <td>Adult, 1 Egg Stage</td>\n",
       "      <td>N1A2</td>\n",
       "      <td>Yes</td>\n",
       "      <td>11-11-2007</td>\n",
       "      <td>39.5</td>\n",
       "      <td>17.4</td>\n",
       "      <td>186.0</td>\n",
       "      <td>3800.0</td>\n",
       "      <td>FEMALE</td>\n",
       "      <td>8.94956</td>\n",
       "      <td>-24.69454</td>\n",
       "      <td>NaN</td>\n",
       "    </tr>\n",
       "    <tr>\n",
       "      <th>2</th>\n",
       "      <td>PAL0708</td>\n",
       "      <td>3</td>\n",
       "      <td>Adelie Penguin (Pygoscelis adeliae)</td>\n",
       "      <td>Anvers</td>\n",
       "      <td>Torgersen</td>\n",
       "      <td>Adult, 1 Egg Stage</td>\n",
       "      <td>N2A1</td>\n",
       "      <td>Yes</td>\n",
       "      <td>11/16/07</td>\n",
       "      <td>40.3</td>\n",
       "      <td>18.0</td>\n",
       "      <td>195.0</td>\n",
       "      <td>3250.0</td>\n",
       "      <td>FEMALE</td>\n",
       "      <td>8.36821</td>\n",
       "      <td>-25.33302</td>\n",
       "      <td>NaN</td>\n",
       "    </tr>\n",
       "    <tr>\n",
       "      <th>3</th>\n",
       "      <td>PAL0708</td>\n",
       "      <td>4</td>\n",
       "      <td>Adelie Penguin (Pygoscelis adeliae)</td>\n",
       "      <td>Anvers</td>\n",
       "      <td>Torgersen</td>\n",
       "      <td>Adult, 1 Egg Stage</td>\n",
       "      <td>N2A2</td>\n",
       "      <td>Yes</td>\n",
       "      <td>11/16/07</td>\n",
       "      <td>NaN</td>\n",
       "      <td>NaN</td>\n",
       "      <td>NaN</td>\n",
       "      <td>NaN</td>\n",
       "      <td>NaN</td>\n",
       "      <td>NaN</td>\n",
       "      <td>NaN</td>\n",
       "      <td>Adult not sampled.</td>\n",
       "    </tr>\n",
       "    <tr>\n",
       "      <th>4</th>\n",
       "      <td>PAL0708</td>\n",
       "      <td>5</td>\n",
       "      <td>Adelie Penguin (Pygoscelis adeliae)</td>\n",
       "      <td>Anvers</td>\n",
       "      <td>Torgersen</td>\n",
       "      <td>Adult, 1 Egg Stage</td>\n",
       "      <td>N3A1</td>\n",
       "      <td>Yes</td>\n",
       "      <td>11/16/07</td>\n",
       "      <td>36.7</td>\n",
       "      <td>19.3</td>\n",
       "      <td>193.0</td>\n",
       "      <td>3450.0</td>\n",
       "      <td>FEMALE</td>\n",
       "      <td>8.76651</td>\n",
       "      <td>-25.32426</td>\n",
       "      <td>NaN</td>\n",
       "    </tr>\n",
       "  </tbody>\n",
       "</table>\n",
       "</div>"
      ],
      "text/plain": [
       "  studyName  Sample Number                              Species  Region  \\\n",
       "0   PAL0708              1  Adelie Penguin (Pygoscelis adeliae)  Anvers   \n",
       "1   PAL0708              2  Adelie Penguin (Pygoscelis adeliae)  Anvers   \n",
       "2   PAL0708              3  Adelie Penguin (Pygoscelis adeliae)  Anvers   \n",
       "3   PAL0708              4  Adelie Penguin (Pygoscelis adeliae)  Anvers   \n",
       "4   PAL0708              5  Adelie Penguin (Pygoscelis adeliae)  Anvers   \n",
       "\n",
       "      Island               Stage Individual ID Clutch Completion    Date Egg  \\\n",
       "0  Torgersen  Adult, 1 Egg Stage          N1A1               Yes  11-11-2007   \n",
       "1  Torgersen  Adult, 1 Egg Stage          N1A2               Yes  11-11-2007   \n",
       "2  Torgersen  Adult, 1 Egg Stage          N2A1               Yes    11/16/07   \n",
       "3  Torgersen  Adult, 1 Egg Stage          N2A2               Yes    11/16/07   \n",
       "4  Torgersen  Adult, 1 Egg Stage          N3A1               Yes    11/16/07   \n",
       "\n",
       "   Culmen Length (mm)  Culmen Depth (mm)  Flipper Length (mm)  Body Mass (g)  \\\n",
       "0                39.1               18.7                181.0         3750.0   \n",
       "1                39.5               17.4                186.0         3800.0   \n",
       "2                40.3               18.0                195.0         3250.0   \n",
       "3                 NaN                NaN                  NaN            NaN   \n",
       "4                36.7               19.3                193.0         3450.0   \n",
       "\n",
       "      Sex  Delta 15 N (o/oo)  Delta 13 C (o/oo)  \\\n",
       "0    MALE                NaN                NaN   \n",
       "1  FEMALE            8.94956          -24.69454   \n",
       "2  FEMALE            8.36821          -25.33302   \n",
       "3     NaN                NaN                NaN   \n",
       "4  FEMALE            8.76651          -25.32426   \n",
       "\n",
       "                         Comments  \n",
       "0  Not enough blood for isotopes.  \n",
       "1                             NaN  \n",
       "2                             NaN  \n",
       "3              Adult not sampled.  \n",
       "4                             NaN  "
      ]
     },
     "execution_count": 5,
     "metadata": {},
     "output_type": "execute_result"
    }
   ],
   "source": [
    "data.head()"
   ]
  },
  {
   "cell_type": "markdown",
   "id": "d717df3d",
   "metadata": {},
   "source": [
    "#### Basic information about the Dataset"
   ]
  },
  {
   "cell_type": "code",
   "execution_count": 4,
   "id": "0a884aee",
   "metadata": {},
   "outputs": [
    {
     "name": "stdout",
     "output_type": "stream",
     "text": [
      "<class 'pandas.core.frame.DataFrame'>\n",
      "RangeIndex: 344 entries, 0 to 343\n",
      "Data columns (total 17 columns):\n",
      " #   Column               Non-Null Count  Dtype  \n",
      "---  ------               --------------  -----  \n",
      " 0   studyName            344 non-null    object \n",
      " 1   Sample Number        344 non-null    int64  \n",
      " 2   Species              344 non-null    object \n",
      " 3   Region               344 non-null    object \n",
      " 4   Island               344 non-null    object \n",
      " 5   Stage                344 non-null    object \n",
      " 6   Individual ID        344 non-null    object \n",
      " 7   Clutch Completion    344 non-null    object \n",
      " 8   Date Egg             344 non-null    object \n",
      " 9   Culmen Length (mm)   342 non-null    float64\n",
      " 10  Culmen Depth (mm)    342 non-null    float64\n",
      " 11  Flipper Length (mm)  342 non-null    float64\n",
      " 12  Body Mass (g)        342 non-null    float64\n",
      " 13  Sex                  334 non-null    object \n",
      " 14  Delta 15 N (o/oo)    330 non-null    float64\n",
      " 15  Delta 13 C (o/oo)    331 non-null    float64\n",
      " 16  Comments             26 non-null     object \n",
      "dtypes: float64(6), int64(1), object(10)\n",
      "memory usage: 45.8+ KB\n"
     ]
    }
   ],
   "source": [
    "data.info()"
   ]
  },
  {
   "cell_type": "markdown",
   "id": "ebd7921d",
   "metadata": {},
   "source": [
    "### Univariate analysis"
   ]
  },
  {
   "cell_type": "markdown",
   "id": "8d2e9e36",
   "metadata": {},
   "source": [
    "##### studyName"
   ]
  },
  {
   "cell_type": "code",
   "execution_count": 5,
   "id": "b2c680bc",
   "metadata": {},
   "outputs": [
    {
     "data": {
      "text/plain": [
       "3"
      ]
     },
     "execution_count": 5,
     "metadata": {},
     "output_type": "execute_result"
    }
   ],
   "source": [
    "data['studyName'].nunique()"
   ]
  },
  {
   "cell_type": "markdown",
   "id": "2b46e989",
   "metadata": {},
   "source": [
    "##### Sample Number\t"
   ]
  },
  {
   "cell_type": "code",
   "execution_count": 6,
   "id": "77ffcf12",
   "metadata": {},
   "outputs": [
    {
     "data": {
      "text/plain": [
       "152"
      ]
     },
     "execution_count": 6,
     "metadata": {},
     "output_type": "execute_result"
    }
   ],
   "source": [
    "data['Sample Number'].nunique()"
   ]
  },
  {
   "cell_type": "markdown",
   "id": "ce2cabc7",
   "metadata": {},
   "source": [
    "#### Species"
   ]
  },
  {
   "cell_type": "code",
   "execution_count": 7,
   "id": "0b219ce9",
   "metadata": {},
   "outputs": [
    {
     "data": {
      "text/plain": [
       "0      Adelie Penguin (Pygoscelis adeliae)\n",
       "1      Adelie Penguin (Pygoscelis adeliae)\n",
       "2      Adelie Penguin (Pygoscelis adeliae)\n",
       "3      Adelie Penguin (Pygoscelis adeliae)\n",
       "4      Adelie Penguin (Pygoscelis adeliae)\n",
       "                      ...                 \n",
       "339      Gentoo penguin (Pygoscelis papua)\n",
       "340      Gentoo penguin (Pygoscelis papua)\n",
       "341      Gentoo penguin (Pygoscelis papua)\n",
       "342      Gentoo penguin (Pygoscelis papua)\n",
       "343      Gentoo penguin (Pygoscelis papua)\n",
       "Name: Species, Length: 344, dtype: object"
      ]
     },
     "execution_count": 7,
     "metadata": {},
     "output_type": "execute_result"
    }
   ],
   "source": [
    "data['Species']"
   ]
  },
  {
   "cell_type": "markdown",
   "id": "e2858afc",
   "metadata": {},
   "source": [
    "##### Region"
   ]
  },
  {
   "cell_type": "code",
   "execution_count": 8,
   "id": "9019723f",
   "metadata": {},
   "outputs": [
    {
     "data": {
      "text/plain": [
       "0      Anvers\n",
       "1      Anvers\n",
       "2      Anvers\n",
       "3      Anvers\n",
       "4      Anvers\n",
       "        ...  \n",
       "339    Anvers\n",
       "340    Anvers\n",
       "341    Anvers\n",
       "342    Anvers\n",
       "343    Anvers\n",
       "Name: Region, Length: 344, dtype: object"
      ]
     },
     "execution_count": 8,
     "metadata": {},
     "output_type": "execute_result"
    }
   ],
   "source": [
    "data['Region']"
   ]
  },
  {
   "cell_type": "markdown",
   "id": "9dff3ad3",
   "metadata": {},
   "source": [
    "##### Island"
   ]
  },
  {
   "cell_type": "code",
   "execution_count": 9,
   "id": "6bbacfc8",
   "metadata": {},
   "outputs": [
    {
     "data": {
      "text/plain": [
       "0      Torgersen\n",
       "1      Torgersen\n",
       "2      Torgersen\n",
       "3      Torgersen\n",
       "4      Torgersen\n",
       "         ...    \n",
       "339       Biscoe\n",
       "340       Biscoe\n",
       "341       Biscoe\n",
       "342       Biscoe\n",
       "343       Biscoe\n",
       "Name: Island, Length: 344, dtype: object"
      ]
     },
     "execution_count": 9,
     "metadata": {},
     "output_type": "execute_result"
    }
   ],
   "source": [
    "data['Island']"
   ]
  },
  {
   "cell_type": "code",
   "execution_count": 10,
   "id": "94430440",
   "metadata": {},
   "outputs": [
    {
     "data": {
      "image/png": "[encoded data removed]",
      "text/plain": [
       "<Figure size 864x576 with 1 Axes>"
      ]
     },
     "metadata": {
      "needs_background": "light"
     },
     "output_type": "display_data"
    }
   ],
   "source": [
    "plt.figure(figsize=(12,8))\n",
    "sns.histplot(data=data, x=data['Island'], kde=True)\n",
    "plt.title(\"Distribution of Island\", fontsize=18)\n",
    "plt.show()"
   ]
  },
  {
   "cell_type": "markdown",
   "id": "ef5b5893",
   "metadata": {},
   "source": [
    "##### Stage"
   ]
  },
  {
   "cell_type": "code",
   "execution_count": 11,
   "id": "89686620",
   "metadata": {},
   "outputs": [
    {
     "data": {
      "text/plain": [
       "1"
      ]
     },
     "execution_count": 11,
     "metadata": {},
     "output_type": "execute_result"
    }
   ],
   "source": [
    "data['Stage'].nunique()"
   ]
  },
  {
   "cell_type": "markdown",
   "id": "bb984105",
   "metadata": {},
   "source": [
    "##### Individual ID"
   ]
  },
  {
   "cell_type": "code",
   "execution_count": 13,
   "id": "3d91fa88",
   "metadata": {},
   "outputs": [
    {
     "data": {
      "text/plain": [
       "190"
      ]
     },
     "execution_count": 13,
     "metadata": {},
     "output_type": "execute_result"
    }
   ],
   "source": [
    "data['Individual ID'].nunique()"
   ]
  },
  {
   "cell_type": "markdown",
   "id": "3813db38",
   "metadata": {},
   "source": [
    "##### Clutch Completion"
   ]
  },
  {
   "cell_type": "code",
   "execution_count": 14,
   "id": "021ba353",
   "metadata": {},
   "outputs": [
    {
     "data": {
      "text/plain": [
       "2"
      ]
     },
     "execution_count": 14,
     "metadata": {},
     "output_type": "execute_result"
    }
   ],
   "source": [
    "data['Clutch Completion'].nunique()"
   ]
  },
  {
   "cell_type": "markdown",
   "id": "958b528a",
   "metadata": {},
   "source": [
    "##### Date Egg"
   ]
  },
  {
   "cell_type": "code",
   "execution_count": 16,
   "id": "ac403a2e",
   "metadata": {},
   "outputs": [
    {
     "data": {
      "text/plain": [
       "0      11-11-2007\n",
       "1      11-11-2007\n",
       "2        11/16/07\n",
       "3        11/16/07\n",
       "4        11/16/07\n",
       "          ...    \n",
       "339    12-01-2009\n",
       "340      11/22/09\n",
       "341      11/22/09\n",
       "342      11/22/09\n",
       "343      11/22/09\n",
       "Name: Date Egg, Length: 344, dtype: object"
      ]
     },
     "execution_count": 16,
     "metadata": {},
     "output_type": "execute_result"
    }
   ],
   "source": [
    "data['Date Egg']"
   ]
  },
  {
   "cell_type": "code",
   "execution_count": 17,
   "id": "c8e36ac9",
   "metadata": {},
   "outputs": [
    {
     "data": {
      "text/plain": [
       "DatetimeIndex(['2007-11-11', '2007-11-11', '2007-11-16', '2007-11-16',\n",
       "               '2007-11-16', '2007-11-16', '2007-11-15', '2007-11-15',\n",
       "               '2007-11-09', '2007-11-09',\n",
       "               ...\n",
       "               '2009-11-25', '2009-11-25', '2009-12-01', '2009-12-01',\n",
       "               '2009-12-01', '2009-12-01', '2009-11-22', '2009-11-22',\n",
       "               '2009-11-22', '2009-11-22'],\n",
       "              dtype='datetime64[ns]', name='Date Egg', length=344, freq=None)"
      ]
     },
     "execution_count": 17,
     "metadata": {},
     "output_type": "execute_result"
    }
   ],
   "source": [
    "pd.DatetimeIndex(data['Date Egg'])"
   ]
  },
  {
   "cell_type": "code",
   "execution_count": 19,
   "id": "9d7ad9cd",
   "metadata": {},
   "outputs": [],
   "source": [
    "data['Date Egg'] = pd.DatetimeIndex(data['Date Egg'])\n",
    "data['year'] = pd.DatetimeIndex(data['Date Egg']).year\n",
    "data['month'] = pd.DatetimeIndex(data['Date Egg']).month"
   ]
  },
  {
   "cell_type": "code",
   "execution_count": 20,
   "id": "1d62d506",
   "metadata": {},
   "outputs": [
    {
     "data": {
      "text/html": [
       "<div>\n",
       "<style scoped>\n",
       "    .dataframe tbody tr th:only-of-type {\n",
       "        vertical-align: middle;\n",
       "    }\n",
       "\n",
       "    .dataframe tbody tr th {\n",
       "        vertical-align: top;\n",
       "    }\n",
       "\n",
       "    .dataframe thead th {\n",
       "        text-align: right;\n",
       "    }\n",
       "</style>\n",
       "<table border=\"1\" class=\"dataframe\">\n",
       "  <thead>\n",
       "    <tr style=\"text-align: right;\">\n",
       "      <th></th>\n",
       "      <th>Date Egg</th>\n",
       "      <th>year</th>\n",
       "      <th>month</th>\n",
       "    </tr>\n",
       "  </thead>\n",
       "  <tbody>\n",
       "    <tr>\n",
       "      <th>0</th>\n",
       "      <td>2007-11-11</td>\n",
       "      <td>2007</td>\n",
       "      <td>11</td>\n",
       "    </tr>\n",
       "    <tr>\n",
       "      <th>1</th>\n",
       "      <td>2007-11-11</td>\n",
       "      <td>2007</td>\n",
       "      <td>11</td>\n",
       "    </tr>\n",
       "    <tr>\n",
       "      <th>2</th>\n",
       "      <td>2007-11-16</td>\n",
       "      <td>2007</td>\n",
       "      <td>11</td>\n",
       "    </tr>\n",
       "    <tr>\n",
       "      <th>3</th>\n",
       "      <td>2007-11-16</td>\n",
       "      <td>2007</td>\n",
       "      <td>11</td>\n",
       "    </tr>\n",
       "    <tr>\n",
       "      <th>4</th>\n",
       "      <td>2007-11-16</td>\n",
       "      <td>2007</td>\n",
       "      <td>11</td>\n",
       "    </tr>\n",
       "    <tr>\n",
       "      <th>...</th>\n",
       "      <td>...</td>\n",
       "      <td>...</td>\n",
       "      <td>...</td>\n",
       "    </tr>\n",
       "    <tr>\n",
       "      <th>339</th>\n",
       "      <td>2009-12-01</td>\n",
       "      <td>2009</td>\n",
       "      <td>12</td>\n",
       "    </tr>\n",
       "    <tr>\n",
       "      <th>340</th>\n",
       "      <td>2009-11-22</td>\n",
       "      <td>2009</td>\n",
       "      <td>11</td>\n",
       "    </tr>\n",
       "    <tr>\n",
       "      <th>341</th>\n",
       "      <td>2009-11-22</td>\n",
       "      <td>2009</td>\n",
       "      <td>11</td>\n",
       "    </tr>\n",
       "    <tr>\n",
       "      <th>342</th>\n",
       "      <td>2009-11-22</td>\n",
       "      <td>2009</td>\n",
       "      <td>11</td>\n",
       "    </tr>\n",
       "    <tr>\n",
       "      <th>343</th>\n",
       "      <td>2009-11-22</td>\n",
       "      <td>2009</td>\n",
       "      <td>11</td>\n",
       "    </tr>\n",
       "  </tbody>\n",
       "</table>\n",
       "<p>344 rows × 3 columns</p>\n",
       "</div>"
      ],
      "text/plain": [
       "      Date Egg  year  month\n",
       "0   2007-11-11  2007     11\n",
       "1   2007-11-11  2007     11\n",
       "2   2007-11-16  2007     11\n",
       "3   2007-11-16  2007     11\n",
       "4   2007-11-16  2007     11\n",
       "..         ...   ...    ...\n",
       "339 2009-12-01  2009     12\n",
       "340 2009-11-22  2009     11\n",
       "341 2009-11-22  2009     11\n",
       "342 2009-11-22  2009     11\n",
       "343 2009-11-22  2009     11\n",
       "\n",
       "[344 rows x 3 columns]"
      ]
     },
     "execution_count": 20,
     "metadata": {},
     "output_type": "execute_result"
    }
   ],
   "source": [
    "data[['Date Egg','year','month']]"
   ]
  },
  {
   "cell_type": "code",
   "execution_count": 21,
   "id": "568fba3b",
   "metadata": {},
   "outputs": [
    {
     "data": {
      "text/plain": [
       "studyName                      object\n",
       "Sample Number                   int64\n",
       "Species                        object\n",
       "Region                         object\n",
       "Island                         object\n",
       "Stage                          object\n",
       "Individual ID                  object\n",
       "Clutch Completion              object\n",
       "Date Egg               datetime64[ns]\n",
       "Culmen Length (mm)            float64\n",
       "Culmen Depth (mm)             float64\n",
       "Flipper Length (mm)           float64\n",
       "Body Mass (g)                 float64\n",
       "Sex                            object\n",
       "Delta 15 N (o/oo)             float64\n",
       "Delta 13 C (o/oo)             float64\n",
       "Comments                       object\n",
       "year                            int64\n",
       "month                           int64\n",
       "dtype: object"
      ]
     },
     "execution_count": 21,
     "metadata": {},
     "output_type": "execute_result"
    }
   ],
   "source": [
    "data.dtypes"
   ]
  },
  {
   "cell_type": "markdown",
   "id": "ae8620ff",
   "metadata": {},
   "source": [
    "#### Culmen Length (mm)"
   ]
  },
  {
   "cell_type": "code",
   "execution_count": 22,
   "id": "4c446bac",
   "metadata": {},
   "outputs": [
    {
     "data": {
      "text/plain": [
       "0      39.1\n",
       "1      39.5\n",
       "2      40.3\n",
       "3       NaN\n",
       "4      36.7\n",
       "       ... \n",
       "339     NaN\n",
       "340    46.8\n",
       "341    50.4\n",
       "342    45.2\n",
       "343    49.9\n",
       "Name: Culmen Length (mm), Length: 344, dtype: float64"
      ]
     },
     "execution_count": 22,
     "metadata": {},
     "output_type": "execute_result"
    }
   ],
   "source": [
    "data['Culmen Length (mm)']"
   ]
  },
  {
   "cell_type": "code",
   "execution_count": 23,
   "id": "626d3b2e",
   "metadata": {},
   "outputs": [
    {
     "data": {
      "text/plain": [
       "(32.1, 59.6)"
      ]
     },
     "execution_count": 23,
     "metadata": {},
     "output_type": "execute_result"
    }
   ],
   "source": [
    "data['Culmen Length (mm)'].min() , data['Culmen Length (mm)'].max()"
   ]
  },
  {
   "cell_type": "code",
   "execution_count": 24,
   "id": "78d01b78",
   "metadata": {},
   "outputs": [
    {
     "data": {
      "text/plain": [
       "43.92192982456142"
      ]
     },
     "execution_count": 24,
     "metadata": {},
     "output_type": "execute_result"
    }
   ],
   "source": [
    "data['Culmen Length (mm)'].mean()"
   ]
  },
  {
   "cell_type": "code",
   "execution_count": 25,
   "id": "89064d2a",
   "metadata": {},
   "outputs": [
    {
     "data": {
      "text/plain": [
       "44.45"
      ]
     },
     "execution_count": 25,
     "metadata": {},
     "output_type": "execute_result"
    }
   ],
   "source": [
    "data['Culmen Length (mm)'].median()"
   ]
  },
  {
   "cell_type": "code",
   "execution_count": 26,
   "id": "65dca802",
   "metadata": {},
   "outputs": [
    {
     "data": {
      "text/plain": [
       "5.459583713926532"
      ]
     },
     "execution_count": 26,
     "metadata": {},
     "output_type": "execute_result"
    }
   ],
   "source": [
    "data['Culmen Length (mm)'].std()"
   ]
  },
  {
   "cell_type": "code",
   "execution_count": 27,
   "id": "ff054b17",
   "metadata": {},
   "outputs": [
    {
     "data": {
      "image/png": "[encoded data removed]",
      "text/plain": [
       "<Figure size 864x576 with 1 Axes>"
      ]
     },
     "metadata": {
      "needs_background": "light"
     },
     "output_type": "display_data"
    }
   ],
   "source": [
    "plt.figure(figsize=(12,8))\n",
    "sns.histplot(data=data, x = data['Culmen Length (mm)'], kde=True)\n",
    "plt.title(\"show Culmen Length\", fontsize = 18)\n",
    "plt.show()"
   ]
  },
  {
   "cell_type": "code",
   "execution_count": 28,
   "id": "6685d474",
   "metadata": {},
   "outputs": [
    {
     "data": {
      "image/png": "[encoded data removed]",
      "text/plain": [
       "<Figure size 720x432 with 1 Axes>"
      ]
     },
     "metadata": {
      "needs_background": "light"
     },
     "output_type": "display_data"
    }
   ],
   "source": [
    "plt.figure(figsize=(10,6))\n",
    "sns.boxplot(data=data, x='Culmen Length (mm)')\n",
    "plt.title(\"The boxplot of Culmen Length\", fontsize=14)\n",
    "plt.show()"
   ]
  },
  {
   "cell_type": "markdown",
   "id": "1b9632be",
   "metadata": {},
   "source": [
    "#### Culmen Depth (mm)"
   ]
  },
  {
   "cell_type": "code",
   "execution_count": 32,
   "id": "f23de696",
   "metadata": {},
   "outputs": [
    {
     "data": {
      "text/plain": [
       "0      18.7\n",
       "1      17.4\n",
       "2      18.0\n",
       "3       NaN\n",
       "4      19.3\n",
       "       ... \n",
       "339     NaN\n",
       "340    14.3\n",
       "341    15.7\n",
       "342    14.8\n",
       "343    16.1\n",
       "Name: Culmen Depth (mm), Length: 344, dtype: float64"
      ]
     },
     "execution_count": 32,
     "metadata": {},
     "output_type": "execute_result"
    }
   ],
   "source": [
    "data['Culmen Depth (mm)']"
   ]
  },
  {
   "cell_type": "code",
   "execution_count": 33,
   "id": "ec23e800",
   "metadata": {},
   "outputs": [
    {
     "data": {
      "image/png": "[encoded data removed]",
      "text/plain": [
       "<Figure size 864x576 with 1 Axes>"
      ]
     },
     "metadata": {
      "needs_background": "light"
     },
     "output_type": "display_data"
    }
   ],
   "source": [
    "plt.figure(figsize=(12,8))\n",
    "sns.histplot(data=data, x = data['Culmen Depth (mm)'], kde=True)\n",
    "plt.title(\"show Culmen Depth\", fontsize = 18)\n",
    "plt.show()"
   ]
  },
  {
   "cell_type": "markdown",
   "id": "8f1b7531",
   "metadata": {},
   "source": [
    "#### Flipper Length "
   ]
  },
  {
   "cell_type": "code",
   "execution_count": 34,
   "id": "bd70bab3",
   "metadata": {},
   "outputs": [
    {
     "data": {
      "text/plain": [
       "0      181.0\n",
       "1      186.0\n",
       "2      195.0\n",
       "3        NaN\n",
       "4      193.0\n",
       "       ...  \n",
       "339      NaN\n",
       "340    215.0\n",
       "341    222.0\n",
       "342    212.0\n",
       "343    213.0\n",
       "Name: Flipper Length (mm), Length: 344, dtype: float64"
      ]
     },
     "execution_count": 34,
     "metadata": {},
     "output_type": "execute_result"
    }
   ],
   "source": [
    "data['Flipper Length (mm)']"
   ]
  },
  {
   "cell_type": "code",
   "execution_count": 36,
   "id": "d30da271",
   "metadata": {
    "scrolled": true
   },
   "outputs": [
    {
     "data": {
      "image/png": "[encoded data removed]",
      "text/plain": [
       "<Figure size 1008x576 with 1 Axes>"
      ]
     },
     "metadata": {
      "needs_background": "light"
     },
     "output_type": "display_data"
    }
   ],
   "source": [
    "plt.figure(figsize=(14,8))\n",
    "sns.histplot(data = data, x ='Flipper Length (mm)', kde = True)\n",
    "plt.title(\"Show Flipper Length\", fontsize = 18)\n",
    "plt.show()"
   ]
  },
  {
   "cell_type": "code",
   "execution_count": 37,
   "id": "debdb5c5",
   "metadata": {},
   "outputs": [
    {
     "data": {
      "text/plain": [
       "200.91520467836258"
      ]
     },
     "execution_count": 37,
     "metadata": {},
     "output_type": "execute_result"
    }
   ],
   "source": [
    "data['Flipper Length (mm)'].mean()"
   ]
  },
  {
   "cell_type": "code",
   "execution_count": 38,
   "id": "9625f686",
   "metadata": {},
   "outputs": [
    {
     "data": {
      "text/plain": [
       "197.0"
      ]
     },
     "execution_count": 38,
     "metadata": {},
     "output_type": "execute_result"
    }
   ],
   "source": [
    "data['Flipper Length (mm)'].median()"
   ]
  },
  {
   "cell_type": "code",
   "execution_count": 39,
   "id": "44a5a0e4",
   "metadata": {},
   "outputs": [
    {
     "data": {
      "image/png": "[encoded data removed]",
      "text/plain": [
       "<Figure size 720x576 with 1 Axes>"
      ]
     },
     "metadata": {
      "needs_background": "light"
     },
     "output_type": "display_data"
    }
   ],
   "source": [
    "plt.figure(figsize=(10,8))\n",
    "sns.boxplot(data=data, x='Flipper Length (mm)')\n",
    "plt.title(\"Boxplot of Flipper Length \", fontsize=18)\n",
    "plt.show()"
   ]
  },
  {
   "cell_type": "code",
   "execution_count": 45,
   "id": "8adafe1c",
   "metadata": {},
   "outputs": [
    {
     "data": {
      "text/plain": [
       "(231.0, 172.0)"
      ]
     },
     "execution_count": 45,
     "metadata": {},
     "output_type": "execute_result"
    }
   ],
   "source": [
    "data['Flipper Length (mm)'].max(), data['Flipper Length (mm)'].min()"
   ]
  },
  {
   "cell_type": "markdown",
   "id": "d9a6df36",
   "metadata": {},
   "source": [
    "#### Body Mass "
   ]
  },
  {
   "cell_type": "code",
   "execution_count": 6,
   "id": "fb479795",
   "metadata": {},
   "outputs": [
    {
     "data": {
      "text/plain": [
       "array([3750., 3800., 3250.,   nan, 3450., 3650., 3625., 4675., 3475.,\n",
       "       4250., 3300., 3700., 3200., 4400., 4500., 3325., 4200., 3400.,\n",
       "       3600., 3950., 3550., 3150., 3900., 4150., 4650., 3100., 3000.,\n",
       "       4600., 3425., 2975., 3500., 4300., 4050., 2900., 2850., 3350.,\n",
       "       4100., 3050., 4450., 4000., 4700., 4350., 3725., 4725., 3075.,\n",
       "       2925., 3175., 4775., 3825., 4275., 4075., 3775., 3875., 3275.,\n",
       "       4475., 3975., 3525., 3575., 4550., 3850., 4800., 2700., 3675.,\n",
       "       5700., 5400., 5200., 5150., 5550., 5850., 6300., 5350., 5000.,\n",
       "       5050., 5100., 5650., 5250., 6050., 4950., 4750., 4900., 5300.,\n",
       "       4850., 5800., 6000., 5950., 4625., 5450., 5600., 4875., 4925.,\n",
       "       4975., 5500., 4575., 4375., 5750.])"
      ]
     },
     "execution_count": 6,
     "metadata": {},
     "output_type": "execute_result"
    }
   ],
   "source": [
    "data['Body Mass (g)'].unique()"
   ]
  },
  {
   "cell_type": "code",
   "execution_count": 7,
   "id": "00a06354",
   "metadata": {},
   "outputs": [
    {
     "data": {
      "text/plain": [
       "3800.0    12\n",
       "3700.0    11\n",
       "3900.0    10\n",
       "3950.0    10\n",
       "3550.0     9\n",
       "          ..\n",
       "4475.0     1\n",
       "3975.0     1\n",
       "3575.0     1\n",
       "3850.0     1\n",
       "5750.0     1\n",
       "Name: Body Mass (g), Length: 94, dtype: int64"
      ]
     },
     "execution_count": 7,
     "metadata": {},
     "output_type": "execute_result"
    }
   ],
   "source": [
    "data['Body Mass (g)'].value_counts()"
   ]
  },
  {
   "cell_type": "code",
   "execution_count": 10,
   "id": "c6127415",
   "metadata": {},
   "outputs": [
    {
     "data": {
      "image/png": "[encoded data removed]",
      "text/plain": [
       "<Figure size 864x576 with 1 Axes>"
      ]
     },
     "metadata": {
      "needs_background": "light"
     },
     "output_type": "display_data"
    }
   ],
   "source": [
    "plt.figure(figsize=(12,8))\n",
    "sns.histplot(data=data, x=data['Body Mass (g)'], kde=True)\n",
    "plt.title(\"show Body Mass (g)\", fontsize=16)\n",
    "plt.show()"
   ]
  },
  {
   "cell_type": "code",
   "execution_count": 11,
   "id": "95feba0d",
   "metadata": {},
   "outputs": [
    {
     "data": {
      "image/png": "[encoded data removed]",
      "text/plain": [
       "<Figure size 864x576 with 1 Axes>"
      ]
     },
     "metadata": {
      "needs_background": "light"
     },
     "output_type": "display_data"
    }
   ],
   "source": [
    "plt.figure(figsize=(12,8))\n",
    "sns.boxplot(data = data, x='Body Mass (g)')\n",
    "plt.title(\"Show the boxplot of Body Mass (g)\", fontsize=16)\n",
    "plt.show()"
   ]
  },
  {
   "cell_type": "code",
   "execution_count": 12,
   "id": "e572754d",
   "metadata": {},
   "outputs": [
    {
     "data": {
      "text/html": [
       "<div>\n",
       "<style scoped>\n",
       "    .dataframe tbody tr th:only-of-type {\n",
       "        vertical-align: middle;\n",
       "    }\n",
       "\n",
       "    .dataframe tbody tr th {\n",
       "        vertical-align: top;\n",
       "    }\n",
       "\n",
       "    .dataframe thead th {\n",
       "        text-align: right;\n",
       "    }\n",
       "</style>\n",
       "<table border=\"1\" class=\"dataframe\">\n",
       "  <thead>\n",
       "    <tr style=\"text-align: right;\">\n",
       "      <th></th>\n",
       "      <th>studyName</th>\n",
       "      <th>Sample Number</th>\n",
       "      <th>Species</th>\n",
       "      <th>Region</th>\n",
       "      <th>Island</th>\n",
       "      <th>Stage</th>\n",
       "      <th>Individual ID</th>\n",
       "      <th>Clutch Completion</th>\n",
       "      <th>Date Egg</th>\n",
       "      <th>Culmen Length (mm)</th>\n",
       "      <th>Culmen Depth (mm)</th>\n",
       "      <th>Flipper Length (mm)</th>\n",
       "      <th>Body Mass (g)</th>\n",
       "      <th>Sex</th>\n",
       "      <th>Delta 15 N (o/oo)</th>\n",
       "      <th>Delta 13 C (o/oo)</th>\n",
       "      <th>Comments</th>\n",
       "    </tr>\n",
       "  </thead>\n",
       "  <tbody>\n",
       "    <tr>\n",
       "      <th>0</th>\n",
       "      <td>PAL0708</td>\n",
       "      <td>1</td>\n",
       "      <td>Adelie Penguin (Pygoscelis adeliae)</td>\n",
       "      <td>Anvers</td>\n",
       "      <td>Torgersen</td>\n",
       "      <td>Adult, 1 Egg Stage</td>\n",
       "      <td>N1A1</td>\n",
       "      <td>Yes</td>\n",
       "      <td>11-11-2007</td>\n",
       "      <td>39.1</td>\n",
       "      <td>18.7</td>\n",
       "      <td>181.0</td>\n",
       "      <td>3750.0</td>\n",
       "      <td>MALE</td>\n",
       "      <td>NaN</td>\n",
       "      <td>NaN</td>\n",
       "      <td>Not enough blood for isotopes.</td>\n",
       "    </tr>\n",
       "    <tr>\n",
       "      <th>1</th>\n",
       "      <td>PAL0708</td>\n",
       "      <td>2</td>\n",
       "      <td>Adelie Penguin (Pygoscelis adeliae)</td>\n",
       "      <td>Anvers</td>\n",
       "      <td>Torgersen</td>\n",
       "      <td>Adult, 1 Egg Stage</td>\n",
       "      <td>N1A2</td>\n",
       "      <td>Yes</td>\n",
       "      <td>11-11-2007</td>\n",
       "      <td>39.5</td>\n",
       "      <td>17.4</td>\n",
       "      <td>186.0</td>\n",
       "      <td>3800.0</td>\n",
       "      <td>FEMALE</td>\n",
       "      <td>8.94956</td>\n",
       "      <td>-24.69454</td>\n",
       "      <td>NaN</td>\n",
       "    </tr>\n",
       "    <tr>\n",
       "      <th>2</th>\n",
       "      <td>PAL0708</td>\n",
       "      <td>3</td>\n",
       "      <td>Adelie Penguin (Pygoscelis adeliae)</td>\n",
       "      <td>Anvers</td>\n",
       "      <td>Torgersen</td>\n",
       "      <td>Adult, 1 Egg Stage</td>\n",
       "      <td>N2A1</td>\n",
       "      <td>Yes</td>\n",
       "      <td>11/16/07</td>\n",
       "      <td>40.3</td>\n",
       "      <td>18.0</td>\n",
       "      <td>195.0</td>\n",
       "      <td>3250.0</td>\n",
       "      <td>FEMALE</td>\n",
       "      <td>8.36821</td>\n",
       "      <td>-25.33302</td>\n",
       "      <td>NaN</td>\n",
       "    </tr>\n",
       "    <tr>\n",
       "      <th>3</th>\n",
       "      <td>PAL0708</td>\n",
       "      <td>4</td>\n",
       "      <td>Adelie Penguin (Pygoscelis adeliae)</td>\n",
       "      <td>Anvers</td>\n",
       "      <td>Torgersen</td>\n",
       "      <td>Adult, 1 Egg Stage</td>\n",
       "      <td>N2A2</td>\n",
       "      <td>Yes</td>\n",
       "      <td>11/16/07</td>\n",
       "      <td>NaN</td>\n",
       "      <td>NaN</td>\n",
       "      <td>NaN</td>\n",
       "      <td>NaN</td>\n",
       "      <td>NaN</td>\n",
       "      <td>NaN</td>\n",
       "      <td>NaN</td>\n",
       "      <td>Adult not sampled.</td>\n",
       "    </tr>\n",
       "    <tr>\n",
       "      <th>4</th>\n",
       "      <td>PAL0708</td>\n",
       "      <td>5</td>\n",
       "      <td>Adelie Penguin (Pygoscelis adeliae)</td>\n",
       "      <td>Anvers</td>\n",
       "      <td>Torgersen</td>\n",
       "      <td>Adult, 1 Egg Stage</td>\n",
       "      <td>N3A1</td>\n",
       "      <td>Yes</td>\n",
       "      <td>11/16/07</td>\n",
       "      <td>36.7</td>\n",
       "      <td>19.3</td>\n",
       "      <td>193.0</td>\n",
       "      <td>3450.0</td>\n",
       "      <td>FEMALE</td>\n",
       "      <td>8.76651</td>\n",
       "      <td>-25.32426</td>\n",
       "      <td>NaN</td>\n",
       "    </tr>\n",
       "  </tbody>\n",
       "</table>\n",
       "</div>"
      ],
      "text/plain": [
       "  studyName  Sample Number                              Species  Region  \\\n",
       "0   PAL0708              1  Adelie Penguin (Pygoscelis adeliae)  Anvers   \n",
       "1   PAL0708              2  Adelie Penguin (Pygoscelis adeliae)  Anvers   \n",
       "2   PAL0708              3  Adelie Penguin (Pygoscelis adeliae)  Anvers   \n",
       "3   PAL0708              4  Adelie Penguin (Pygoscelis adeliae)  Anvers   \n",
       "4   PAL0708              5  Adelie Penguin (Pygoscelis adeliae)  Anvers   \n",
       "\n",
       "      Island               Stage Individual ID Clutch Completion    Date Egg  \\\n",
       "0  Torgersen  Adult, 1 Egg Stage          N1A1               Yes  11-11-2007   \n",
       "1  Torgersen  Adult, 1 Egg Stage          N1A2               Yes  11-11-2007   \n",
       "2  Torgersen  Adult, 1 Egg Stage          N2A1               Yes    11/16/07   \n",
       "3  Torgersen  Adult, 1 Egg Stage          N2A2               Yes    11/16/07   \n",
       "4  Torgersen  Adult, 1 Egg Stage          N3A1               Yes    11/16/07   \n",
       "\n",
       "   Culmen Length (mm)  Culmen Depth (mm)  Flipper Length (mm)  Body Mass (g)  \\\n",
       "0                39.1               18.7                181.0         3750.0   \n",
       "1                39.5               17.4                186.0         3800.0   \n",
       "2                40.3               18.0                195.0         3250.0   \n",
       "3                 NaN                NaN                  NaN            NaN   \n",
       "4                36.7               19.3                193.0         3450.0   \n",
       "\n",
       "      Sex  Delta 15 N (o/oo)  Delta 13 C (o/oo)  \\\n",
       "0    MALE                NaN                NaN   \n",
       "1  FEMALE            8.94956          -24.69454   \n",
       "2  FEMALE            8.36821          -25.33302   \n",
       "3     NaN                NaN                NaN   \n",
       "4  FEMALE            8.76651          -25.32426   \n",
       "\n",
       "                         Comments  \n",
       "0  Not enough blood for isotopes.  \n",
       "1                             NaN  \n",
       "2                             NaN  \n",
       "3              Adult not sampled.  \n",
       "4                             NaN  "
      ]
     },
     "execution_count": 12,
     "metadata": {},
     "output_type": "execute_result"
    }
   ],
   "source": [
    "data.head()"
   ]
  },
  {
   "cell_type": "markdown",
   "id": "a4ec6b10",
   "metadata": {},
   "source": [
    "#### Sex"
   ]
  },
  {
   "cell_type": "code",
   "execution_count": 13,
   "id": "603efd06",
   "metadata": {},
   "outputs": [
    {
     "data": {
      "text/plain": [
       "array(['MALE', 'FEMALE', nan, '.'], dtype=object)"
      ]
     },
     "execution_count": 13,
     "metadata": {},
     "output_type": "execute_result"
    }
   ],
   "source": [
    "data['Sex'].unique()"
   ]
  },
  {
   "cell_type": "code",
   "execution_count": 14,
   "id": "f2fcdacb",
   "metadata": {},
   "outputs": [
    {
     "data": {
      "text/plain": [
       "MALE      168\n",
       "FEMALE    165\n",
       ".           1\n",
       "Name: Sex, dtype: int64"
      ]
     },
     "execution_count": 14,
     "metadata": {},
     "output_type": "execute_result"
    }
   ],
   "source": [
    "data['Sex'].value_counts()"
   ]
  },
  {
   "cell_type": "code",
   "execution_count": 15,
   "id": "663142f4",
   "metadata": {},
   "outputs": [
    {
     "data": {
      "image/png": "[encoded data removed]",
      "text/plain": [
       "<Figure size 720x720 with 1 Axes>"
      ]
     },
     "metadata": {},
     "output_type": "display_data"
    }
   ],
   "source": [
    "plt.figure(figsize=(10,10))\n",
    "wedges, labels, pcts = plt.pie(x = data['Sex'].value_counts().values, labels = data['Sex'].value_counts().index, autopct=\"%.2f\")\n",
    "for l in labels:\n",
    "    l.set_fontsize(14)\n",
    "for p in pcts:\n",
    "    p.set_fontsize(14)\n",
    "plt.title(\"Show the Sex ratio\", fontsize=16)\n",
    "plt.show()"
   ]
  },
  {
   "cell_type": "markdown",
   "id": "edefeaa5",
   "metadata": {},
   "source": [
    "#### Delta 15 N (o/oo)"
   ]
  },
  {
   "cell_type": "code",
   "execution_count": 17,
   "id": "15282c58",
   "metadata": {},
   "outputs": [
    {
     "data": {
      "text/plain": [
       "8.94956    1\n",
       "7.84057    1\n",
       "7.63884    1\n",
       "8.07137    1\n",
       "7.79958    1\n",
       "          ..\n",
       "9.04296    1\n",
       "9.32277    1\n",
       "8.96436    1\n",
       "9.49645    1\n",
       "8.36390    1\n",
       "Name: Delta 15 N (o/oo), Length: 330, dtype: int64"
      ]
     },
     "execution_count": 17,
     "metadata": {},
     "output_type": "execute_result"
    }
   ],
   "source": [
    "data['Delta 15 N (o/oo)'].value_counts()"
   ]
  },
  {
   "cell_type": "markdown",
   "id": "ca6508c8",
   "metadata": {},
   "source": [
    "##### Delta 13 C (o/oo)\t"
   ]
  },
  {
   "cell_type": "code",
   "execution_count": 18,
   "id": "f85e8bef",
   "metadata": {},
   "outputs": [
    {
     "data": {
      "text/plain": [
       "-24.69454    1\n",
       "-25.37899    1\n",
       "-25.52627    1\n",
       "-25.52473    1\n",
       "-25.62618    1\n",
       "            ..\n",
       "-26.19444    1\n",
       "-26.09989    1\n",
       "-23.90309    1\n",
       "-26.36678    1\n",
       "-26.15531    1\n",
       "Name: Delta 13 C (o/oo), Length: 331, dtype: int64"
      ]
     },
     "execution_count": 18,
     "metadata": {},
     "output_type": "execute_result"
    }
   ],
   "source": [
    "data['Delta 13 C (o/oo)'].value_counts()"
   ]
  },
  {
   "cell_type": "markdown",
   "id": "dfa952da",
   "metadata": {},
   "source": [
    "#### Comments"
   ]
  },
  {
   "cell_type": "code",
   "execution_count": 19,
   "id": "6524c689",
   "metadata": {},
   "outputs": [
    {
     "data": {
      "text/plain": [
       "Nest never observed with full clutch.                                   13\n",
       "Not enough blood for isotopes.                                           6\n",
       "No blood sample obtained.                                                2\n",
       "No blood sample obtained for sexing.                                     2\n",
       "Adult not sampled.                                                       1\n",
       "Nest never observed with full clutch. Not enough blood for isotopes.     1\n",
       "Sexing primers did not amplify. Not enough blood for isotopes.           1\n",
       "Name: Comments, dtype: int64"
      ]
     },
     "execution_count": 19,
     "metadata": {},
     "output_type": "execute_result"
    }
   ],
   "source": [
    "data['Comments'].value_counts()"
   ]
  },
  {
   "cell_type": "code",
   "execution_count": 20,
   "id": "95fa68c5",
   "metadata": {},
   "outputs": [
    {
     "data": {
      "image/png": "[encoded data removed]",
      "text/plain": [
       "<Figure size 576x576 with 1 Axes>"
      ]
     },
     "metadata": {},
     "output_type": "display_data"
    }
   ],
   "source": [
    "plt.figure(figsize=(8,8))\n",
    "wedges, labels, pcts = plt.pie(x = data['Comments'].value_counts().values, labels = data['Comments'].value_counts().index, autopct=\".2f\")\n",
    "for l in labels:\n",
    "    l.set_fontsize(14)\n",
    "for p in pcts:\n",
    "    p.set_fontsize(14)\n",
    "plt.title(\"Show the Comments\", fontsize = 16)\n",
    "plt.show()"
   ]
  },
  {
   "cell_type": "markdown",
   "id": "6296677c",
   "metadata": {},
   "source": [
    "### Bivariate Analysis"
   ]
  },
  {
   "cell_type": "code",
   "execution_count": 6,
   "id": "a89601f2",
   "metadata": {},
   "outputs": [
    {
     "data": {
      "text/html": [
       "<div>\n",
       "<style scoped>\n",
       "    .dataframe tbody tr th:only-of-type {\n",
       "        vertical-align: middle;\n",
       "    }\n",
       "\n",
       "    .dataframe tbody tr th {\n",
       "        vertical-align: top;\n",
       "    }\n",
       "\n",
       "    .dataframe thead th {\n",
       "        text-align: right;\n",
       "    }\n",
       "</style>\n",
       "<table border=\"1\" class=\"dataframe\">\n",
       "  <thead>\n",
       "    <tr style=\"text-align: right;\">\n",
       "      <th></th>\n",
       "      <th>studyName</th>\n",
       "      <th>Sample Number</th>\n",
       "      <th>Species</th>\n",
       "      <th>Region</th>\n",
       "      <th>Island</th>\n",
       "      <th>Stage</th>\n",
       "      <th>Individual ID</th>\n",
       "      <th>Clutch Completion</th>\n",
       "      <th>Date Egg</th>\n",
       "      <th>Culmen Length (mm)</th>\n",
       "      <th>Culmen Depth (mm)</th>\n",
       "      <th>Flipper Length (mm)</th>\n",
       "      <th>Body Mass (g)</th>\n",
       "      <th>Sex</th>\n",
       "      <th>Delta 15 N (o/oo)</th>\n",
       "      <th>Delta 13 C (o/oo)</th>\n",
       "      <th>Comments</th>\n",
       "    </tr>\n",
       "  </thead>\n",
       "  <tbody>\n",
       "    <tr>\n",
       "      <th>0</th>\n",
       "      <td>PAL0708</td>\n",
       "      <td>1</td>\n",
       "      <td>Adelie Penguin (Pygoscelis adeliae)</td>\n",
       "      <td>Anvers</td>\n",
       "      <td>Torgersen</td>\n",
       "      <td>Adult, 1 Egg Stage</td>\n",
       "      <td>N1A1</td>\n",
       "      <td>Yes</td>\n",
       "      <td>11-11-2007</td>\n",
       "      <td>39.1</td>\n",
       "      <td>18.7</td>\n",
       "      <td>181.0</td>\n",
       "      <td>3750.0</td>\n",
       "      <td>MALE</td>\n",
       "      <td>NaN</td>\n",
       "      <td>NaN</td>\n",
       "      <td>Not enough blood for isotopes.</td>\n",
       "    </tr>\n",
       "    <tr>\n",
       "      <th>1</th>\n",
       "      <td>PAL0708</td>\n",
       "      <td>2</td>\n",
       "      <td>Adelie Penguin (Pygoscelis adeliae)</td>\n",
       "      <td>Anvers</td>\n",
       "      <td>Torgersen</td>\n",
       "      <td>Adult, 1 Egg Stage</td>\n",
       "      <td>N1A2</td>\n",
       "      <td>Yes</td>\n",
       "      <td>11-11-2007</td>\n",
       "      <td>39.5</td>\n",
       "      <td>17.4</td>\n",
       "      <td>186.0</td>\n",
       "      <td>3800.0</td>\n",
       "      <td>FEMALE</td>\n",
       "      <td>8.94956</td>\n",
       "      <td>-24.69454</td>\n",
       "      <td>NaN</td>\n",
       "    </tr>\n",
       "    <tr>\n",
       "      <th>2</th>\n",
       "      <td>PAL0708</td>\n",
       "      <td>3</td>\n",
       "      <td>Adelie Penguin (Pygoscelis adeliae)</td>\n",
       "      <td>Anvers</td>\n",
       "      <td>Torgersen</td>\n",
       "      <td>Adult, 1 Egg Stage</td>\n",
       "      <td>N2A1</td>\n",
       "      <td>Yes</td>\n",
       "      <td>11/16/07</td>\n",
       "      <td>40.3</td>\n",
       "      <td>18.0</td>\n",
       "      <td>195.0</td>\n",
       "      <td>3250.0</td>\n",
       "      <td>FEMALE</td>\n",
       "      <td>8.36821</td>\n",
       "      <td>-25.33302</td>\n",
       "      <td>NaN</td>\n",
       "    </tr>\n",
       "    <tr>\n",
       "      <th>3</th>\n",
       "      <td>PAL0708</td>\n",
       "      <td>4</td>\n",
       "      <td>Adelie Penguin (Pygoscelis adeliae)</td>\n",
       "      <td>Anvers</td>\n",
       "      <td>Torgersen</td>\n",
       "      <td>Adult, 1 Egg Stage</td>\n",
       "      <td>N2A2</td>\n",
       "      <td>Yes</td>\n",
       "      <td>11/16/07</td>\n",
       "      <td>NaN</td>\n",
       "      <td>NaN</td>\n",
       "      <td>NaN</td>\n",
       "      <td>NaN</td>\n",
       "      <td>NaN</td>\n",
       "      <td>NaN</td>\n",
       "      <td>NaN</td>\n",
       "      <td>Adult not sampled.</td>\n",
       "    </tr>\n",
       "    <tr>\n",
       "      <th>4</th>\n",
       "      <td>PAL0708</td>\n",
       "      <td>5</td>\n",
       "      <td>Adelie Penguin (Pygoscelis adeliae)</td>\n",
       "      <td>Anvers</td>\n",
       "      <td>Torgersen</td>\n",
       "      <td>Adult, 1 Egg Stage</td>\n",
       "      <td>N3A1</td>\n",
       "      <td>Yes</td>\n",
       "      <td>11/16/07</td>\n",
       "      <td>36.7</td>\n",
       "      <td>19.3</td>\n",
       "      <td>193.0</td>\n",
       "      <td>3450.0</td>\n",
       "      <td>FEMALE</td>\n",
       "      <td>8.76651</td>\n",
       "      <td>-25.32426</td>\n",
       "      <td>NaN</td>\n",
       "    </tr>\n",
       "  </tbody>\n",
       "</table>\n",
       "</div>"
      ],
      "text/plain": [
       "  studyName  Sample Number                              Species  Region  \\\n",
       "0   PAL0708              1  Adelie Penguin (Pygoscelis adeliae)  Anvers   \n",
       "1   PAL0708              2  Adelie Penguin (Pygoscelis adeliae)  Anvers   \n",
       "2   PAL0708              3  Adelie Penguin (Pygoscelis adeliae)  Anvers   \n",
       "3   PAL0708              4  Adelie Penguin (Pygoscelis adeliae)  Anvers   \n",
       "4   PAL0708              5  Adelie Penguin (Pygoscelis adeliae)  Anvers   \n",
       "\n",
       "      Island               Stage Individual ID Clutch Completion    Date Egg  \\\n",
       "0  Torgersen  Adult, 1 Egg Stage          N1A1               Yes  11-11-2007   \n",
       "1  Torgersen  Adult, 1 Egg Stage          N1A2               Yes  11-11-2007   \n",
       "2  Torgersen  Adult, 1 Egg Stage          N2A1               Yes    11/16/07   \n",
       "3  Torgersen  Adult, 1 Egg Stage          N2A2               Yes    11/16/07   \n",
       "4  Torgersen  Adult, 1 Egg Stage          N3A1               Yes    11/16/07   \n",
       "\n",
       "   Culmen Length (mm)  Culmen Depth (mm)  Flipper Length (mm)  Body Mass (g)  \\\n",
       "0                39.1               18.7                181.0         3750.0   \n",
       "1                39.5               17.4                186.0         3800.0   \n",
       "2                40.3               18.0                195.0         3250.0   \n",
       "3                 NaN                NaN                  NaN            NaN   \n",
       "4                36.7               19.3                193.0         3450.0   \n",
       "\n",
       "      Sex  Delta 15 N (o/oo)  Delta 13 C (o/oo)  \\\n",
       "0    MALE                NaN                NaN   \n",
       "1  FEMALE            8.94956          -24.69454   \n",
       "2  FEMALE            8.36821          -25.33302   \n",
       "3     NaN                NaN                NaN   \n",
       "4  FEMALE            8.76651          -25.32426   \n",
       "\n",
       "                         Comments  \n",
       "0  Not enough blood for isotopes.  \n",
       "1                             NaN  \n",
       "2                             NaN  \n",
       "3              Adult not sampled.  \n",
       "4                             NaN  "
      ]
     },
     "execution_count": 6,
     "metadata": {},
     "output_type": "execute_result"
    }
   ],
   "source": [
    "data.head()"
   ]
  },
  {
   "cell_type": "markdown",
   "id": "0e509c7f",
   "metadata": {},
   "source": [
    "#### Delta 15 N  vs Delta 13 C "
   ]
  },
  {
   "cell_type": "code",
   "execution_count": 8,
   "id": "6cdb18dd",
   "metadata": {},
   "outputs": [
    {
     "data": {
      "image/png": "[encoded data removed]",
      "text/plain": [
       "<Figure size 1440x1080 with 1 Axes>"
      ]
     },
     "metadata": {
      "needs_background": "light"
     },
     "output_type": "display_data"
    }
   ],
   "source": [
    "plt.figure(figsize=(20,15))\n",
    "sns.scatterplot(x='Flipper Length (mm)', y = 'Delta 15 N (o/oo)', data=data)\n",
    "plt.title(\"Delta 15 N  vs Delta 13 C \", fontsize=18)\n",
    "plt.show()"
   ]
  },
  {
   "cell_type": "markdown",
   "id": "2d5164e2",
   "metadata": {},
   "source": [
    "#### Flipper Length (mm) vs Body Mass (g)\t"
   ]
  },
  {
   "cell_type": "code",
   "execution_count": 9,
   "id": "9d938ba9",
   "metadata": {},
   "outputs": [
    {
     "data": {
      "image/png": "[encoded data removed]",
      "text/plain": [
       "<Figure size 1440x720 with 1 Axes>"
      ]
     },
     "metadata": {
      "needs_background": "light"
     },
     "output_type": "display_data"
    }
   ],
   "source": [
    "plt.figure(figsize=(20,10))\n",
    "sns.scatterplot(x='Delta 13 C (o/oo)', y = 'Body Mass (g)', data=data)\n",
    "plt.title(\"Delta 15 N  vs Delta 13 C \", fontsize=18)\n",
    "plt.show()"
   ]
  },
  {
   "cell_type": "code",
   "execution_count": null,
   "id": "a7df50b5",
   "metadata": {},
   "outputs": [],
   "source": []
  }
 ],
 "metadata": {
  "kernelspec": {
   "display_name": "Python 3 (ipykernel)",
   "language": "python",
   "name": "python3"
  },
  "language_info": {
   "codemirror_mode": {
    "name": "ipython",
    "version": 3
   },
   "file_extension": ".py",
   "mimetype": "text/x-python",
   "name": "python",
   "nbconvert_exporter": "python",
   "pygments_lexer": "ipython3",
   "version": "3.9.12"
  }
 },
 "nbformat": 4,
 "nbformat_minor": 5
}
